{
  "nbformat": 4,
  "nbformat_minor": 0,
  "metadata": {
    "colab": {
      "provenance": []
    },
    "kernelspec": {
      "name": "python3",
      "display_name": "Python 3"
    },
    "language_info": {
      "name": "python"
    }
  },
  "cells": [
    {
      "cell_type": "markdown",
      "source": [
        "#3- Case Study_Common Statistical Tests-1\n",
        "\n",
        "\n"
      ],
      "metadata": {
        "id": "Tn2Ohdi-isMP"
      }
    },
    {
      "cell_type": "code",
      "source": [
        "import numpy as np\n",
        "import pandas as pd\n",
        "import matplotlib.pyplot as plt\n",
        "import scipy.stats as stats\n"
      ],
      "metadata": {
        "id": "30cgbTq5iuKd"
      },
      "execution_count": null,
      "outputs": []
    },
    {
      "cell_type": "code",
      "source": [
        "acorn_masses = np.array([8.8, 6.6, 9.5, 11.2, 10.2, 7.4, 8.0, 9.6, 9.9, 9.0,\n",
        "                         7.6, 7.4, 10.4, 11.1, 8.5, 10.0, 11.6, 10.7, 10.3, 7.0])\n",
        "\n",
        "t_stat, p_value = stats.ttest_1samp(acorn_masses, 10)\n",
        "\n",
        "# Print results\n",
        "print(f\"One-sample t-test:\")\n",
        "print(f\"t-statistic: {t_stat:.4f}, p-value: {p_value:.4f}\")\n",
        "\n",
        "# Conclusion\n",
        "alpha = 0.05\n",
        "if p_value < alpha:\n",
        "    print(f\"Reject the null hypothesis (p-value < {alpha}). The average mass is significantly different from 10 g.\")\n",
        "else:\n",
        "    print(f\"Fail to reject the null hypothesis (p-value >= {alpha}). There is no significant evidence that the average mass is different from 10 g.\")\n"
      ],
      "metadata": {
        "colab": {
          "base_uri": "https://localhost:8080/"
        },
        "id": "Zohhr4NGjU8O",
        "outputId": "82d3e0d3-970c-46ed-d1e2-7a501a62f44f"
      },
      "execution_count": null,
      "outputs": [
        {
          "output_type": "stream",
          "name": "stdout",
          "text": [
            "One-sample t-test:\n",
            "t-statistic: -2.2492, p-value: 0.0366\n",
            "Reject the null hypothesis (p-value < 0.05). The average mass is significantly different from 10 g.\n"
          ]
        }
      ]
    },
    {
      "cell_type": "code",
      "source": [
        "# Data for two-sample t-test\n",
        "acorns_upwind = np.array([10.8, 10.0, 8.2, 9.9, 11.6, 10.1, 11.3, 10.3, 10.7, 9.7,\n",
        "                          7.8, 9.6, 9.7, 11.6, 10.3, 9.8, 12.3, 11.0, 10.4, 10.4])\n",
        "acorns_downwind = np.array([7.8, 7.5, 9.5, 11.7, 8.1, 8.8, 8.8, 7.7, 9.7, 7.0,\n",
        "                            9.0, 9.7, 11.3, 8.7, 8.8, 10.9, 10.3, 9.6, 8.4, 6.6,\n",
        "                            7.2, 7.6, 11.5, 6.6, 8.6, 10.5, 8.4, 8.5, 10.2, 9.2])\n",
        "\n",
        "# Perform two-sample t-test (equal variances)\n",
        "t_stat, p_value = stats.ttest_ind(acorns_upwind, acorns_downwind, equal_var=True)\n",
        "\n",
        "# Print results\n",
        "print(f\"\\nTwo-sample t-test:\")\n",
        "print(f\"t-statistic: {t_stat:.4f}, p-value: {p_value:.4f}\")\n",
        "\n",
        "# Conclusion\n",
        "if p_value < alpha:\n",
        "    print(f\"Reject the null hypothesis (p-value < {alpha}). The average mass of acorns is significantly different between upwind and downwind trees.\")\n",
        "else:\n",
        "    print(f\"Fail to reject the null hypothesis (p-value >= {alpha}). There is no significant evidence that the average mass is different between upwind and downwind trees.\")\n"
      ],
      "metadata": {
        "colab": {
          "base_uri": "https://localhost:8080/"
        },
        "id": "ISDT01p4jdPf",
        "outputId": "002ff9c9-3b5f-453e-e692-d5211b7d79bb"
      },
      "execution_count": null,
      "outputs": [
        {
          "output_type": "stream",
          "name": "stdout",
          "text": [
            "\n",
            "Two-sample t-test:\n",
            "t-statistic: 3.5982, p-value: 0.0008\n",
            "Reject the null hypothesis (p-value < 0.05). The average mass of acorns is significantly different between upwind and downwind trees.\n"
          ]
        }
      ]
    },
    {
      "cell_type": "code",
      "source": [
        "A = [51, 45, 33, 45, 67]\n",
        "B = [23, 43, 23, 43, 45]\n",
        "C = [56, 76, 74, 87, 56]\n",
        "\n",
        "f_stat, p_value = stats.f_oneway(A, B, C)\n",
        "\n",
        "# Print results\n",
        "print(f\"ANOVA test:\")\n",
        "print(f\"F-statistic: {f_stat:.4f}, p-value: {p_value:.4f}\")\n",
        "\n",
        "# Conclusion\n",
        "alpha = 0.05\n",
        "if p_value < alpha:\n",
        "    print(f\"Reject the null hypothesis (p-value < {alpha}). There is significant evidence that the mean marks of students in the three sections are different.\")\n",
        "else:\n",
        "    print(f\"Fail to reject the null hypothesis (p-value >= {alpha}). There is no significant evidence that the mean marks of students in the three sections are different.\")"
      ],
      "metadata": {
        "colab": {
          "base_uri": "https://localhost:8080/"
        },
        "id": "0zA3s4Mgjg6w",
        "outputId": "2acfc8a9-df5a-4456-bb45-cc87f154a5e0"
      },
      "execution_count": null,
      "outputs": [
        {
          "output_type": "stream",
          "name": "stdout",
          "text": [
            "ANOVA test:\n",
            "F-statistic: 9.7472, p-value: 0.0031\n",
            "Reject the null hypothesis (p-value < 0.05). There is significant evidence that the mean marks of students in the three sections are different.\n"
          ]
        }
      ]
    }
  ]
}