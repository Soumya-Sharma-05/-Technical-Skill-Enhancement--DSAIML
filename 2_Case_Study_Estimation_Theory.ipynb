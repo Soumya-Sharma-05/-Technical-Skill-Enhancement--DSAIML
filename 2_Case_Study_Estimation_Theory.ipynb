{
  "nbformat": 4,
  "nbformat_minor": 0,
  "metadata": {
    "colab": {
      "provenance": []
    },
    "kernelspec": {
      "name": "python3",
      "display_name": "Python 3"
    },
    "language_info": {
      "name": "python"
    }
  },
  "cells": [
    {
      "cell_type": "markdown",
      "source": [
        "#2-Case_Study_Estimation_Theory\n",
        "\n"
      ],
      "metadata": {
        "id": "wZ3pIyRjmREi"
      }
    },
    {
      "cell_type": "code",
      "source": [
        "import scipy.stats as stats\n",
        "import numpy as np\n",
        "mu = 60\n",
        "sigma = 6\n",
        "n = 40\n",
        "sample_mean = 58\n",
        "SE = sigma / np.sqrt(n)\n",
        "\n",
        "z_score = (sample_mean - mu) / SE\n",
        "\n",
        "\n",
        "probability = stats.norm.cdf(z_score)\n",
        "\n",
        "print(f\"Z-score: {z_score:.4f}\")\n",
        "print(f\"Probability that the mean lifetime of 40 batteries is less than 58 months: {probability:.4f}\")\n"
      ],
      "metadata": {
        "colab": {
          "base_uri": "https://localhost:8080/"
        },
        "id": "tq47jr8Bj5JX",
        "outputId": "5145a4d1-7a56-4e1b-8f33-75268d590a75"
      },
      "execution_count": null,
      "outputs": [
        {
          "output_type": "stream",
          "name": "stdout",
          "text": [
            "Z-score: -2.1082\n",
            "Probability that the mean lifetime of 40 batteries is less than 58 months: 0.0175\n"
          ]
        }
      ]
    },
    {
      "cell_type": "code",
      "source": [
        "import numpy as np\n",
        "import scipy.stats as stats\n",
        "\n",
        "# Given data\n",
        "sample_mean = 310\n",
        "sigma = 89\n",
        "n = 40\n",
        "z_value = 1.96\n",
        "SE = sigma / np.sqrt(n)\n",
        "margin_of_error = z_value * SE\n",
        "confidence_interval = (sample_mean - margin_of_error, sample_mean + margin_of_error)\n",
        "\n",
        "print(f\"95% Confidence Interval: {confidence_interval[0]:.2f} kWh to {confidence_interval[1]:.2f} kWh\")\n"
      ],
      "metadata": {
        "colab": {
          "base_uri": "https://localhost:8080/"
        },
        "id": "hWKrb4qwmw4S",
        "outputId": "2e03c9e7-e611-4fe4-dd17-064b3683a710"
      },
      "execution_count": null,
      "outputs": [
        {
          "output_type": "stream",
          "name": "stdout",
          "text": [
            "95% Confidence Interval: 282.42 kWh to 337.58 kWh\n"
          ]
        }
      ]
    },
    {
      "cell_type": "code",
      "source": [
        "population_mean = 4.5\n",
        "sample_mean = 5.0\n",
        "std_dev_waiting_time = 1.2\n",
        "n = 50\n",
        "alpha = 0.05\n",
        "se_waiting_time = std_dev_waiting_time / np.sqrt(n)\n",
        "z_stat_waiting_time = (sample_mean - population_mean) / se_waiting_time\n",
        "p_value_waiting_time = 2 * (1 - stats.norm.cdf(abs(z_stat_waiting_time)))\n",
        "print(f\"Q3: The z-statistic is {z_stat_waiting_time:.2f}, and the p-value is {p_value_waiting_time:.2f}\")\n",
        "if p_value_waiting_time < alpha:\n",
        "    print(\"Conclusion: Reject the null hypothesis. The mean waiting time has changed.\")\n",
        "else:\n",
        "    print(\"Conclusion: Fail to reject the null hypothesis. There is no sufficient evidence\")"
      ],
      "metadata": {
        "id": "IeOCRLGVnrvj",
        "colab": {
          "base_uri": "https://localhost:8080/"
        },
        "outputId": "1a5c8df2-731c-4aec-baa6-1fd37ec59ed8"
      },
      "execution_count": null,
      "outputs": [
        {
          "output_type": "stream",
          "name": "stdout",
          "text": [
            "Q3: The z-statistic is 2.95, and the p-value is 0.00\n",
            "Conclusion: Reject the null hypothesis. The mean waiting time has changed.\n"
          ]
        }
      ]
    },
    {
      "cell_type": "code",
      "source": [
        "z_stat = 2.00\n",
        "p_value_q4 = 2 * (1 - stats.norm.cdf(abs(z_stat)))\n",
        "print(f\"Q4: The p-value for a two-tailed z-test with z-stat of +2.00 is: {p_value_q4:.4f}\")\n",
        "print(\"\\n\")"
      ],
      "metadata": {
        "colab": {
          "base_uri": "https://localhost:8080/"
        },
        "id": "913W6i8yg-wU",
        "outputId": "927f7fa8-a5ae-45fa-ddb6-460b97c1c4a8"
      },
      "execution_count": null,
      "outputs": [
        {
          "output_type": "stream",
          "name": "stdout",
          "text": [
            "Q4: The p-value for a two-tailed z-test with z-stat of +2.00 is: 0.0455\n",
            "\n",
            "\n"
          ]
        }
      ]
    },
    {
      "cell_type": "code",
      "source": [
        "sample_size_q5 = 400\n",
        "sample_mean_q5 = 30000\n",
        "population_mean_q5 = 29000\n",
        "std_dev_q5 = 8000\n",
        "alpha = 0.05\n",
        "se_q5 = std_dev_q5 / np.sqrt(sample_size_q5)\n",
        "z_stat_q5 = (sample_mean_q5 - population_mean_q5) / se_q5\n",
        "p_value_q5 = 1 - stats.norm.cdf(z_stat_q5)\n",
        "print(f\"Q5: The z-statistic is {z_stat_q5:.4f}, and the p-value is {p_value_q5:.4f}\")\n",
        "if p_value_q5 < alpha:\n",
        "    print(\"Conclusion: Reject the null hypothesis. Samy should launch the product line\")\n",
        "else:\n",
        "    print(\"Conclusion: Fail to reject the null hypothesis. Samy should not launch the product line\")"
      ],
      "metadata": {
        "colab": {
          "base_uri": "https://localhost:8080/"
        },
        "id": "1eTRxDM5hc_I",
        "outputId": "e2609ee6-a947-4617-d58a-f7efc1521805"
      },
      "execution_count": null,
      "outputs": [
        {
          "output_type": "stream",
          "name": "stdout",
          "text": [
            "Q5: The z-statistic is 2.5000, and the p-value is 0.0062\n",
            "Conclusion: Reject the null hypothesis. Samy should launch the product line\n"
          ]
        }
      ]
    },
    {
      "cell_type": "code",
      "source": [],
      "metadata": {
        "id": "s7j5cYmYhkIu"
      },
      "execution_count": null,
      "outputs": []
    }
  ]
}